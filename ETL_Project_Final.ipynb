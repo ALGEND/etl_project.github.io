{
 "cells": [
  {
   "cell_type": "code",
   "execution_count": null,
   "metadata": {},
   "outputs": [],
   "source": [
    "import pandas as pd\n",
    "#from sqlalchemy import create_engine\n",
    "import csv\n",
    "import pandas as pd\n",
    "import numpy as np\n",
    "import os\n",
    "from datetime import datetime\n",
    "import calendar\n",
    "\n",
    "import matplotlib.pyplot as plt\n",
    "import matplotlib as mpl\n",
    "\n",
    "from scipy.stats import linregress\n",
    "\n",
    "import scipy.stats as stats\n",
    "\n",
    "import warnings\n",
    "warnings.filterwarnings('ignore')\n",
    "\n",
    "import seaborn as sns\n",
    "sns.set()"
   ]
  },
  {
   "cell_type": "code",
   "execution_count": null,
   "metadata": {},
   "outputs": [],
   "source": [
    "admission_file = \"admissions.csv\"\n",
    "admission_df = pd.read_csv(admission_file)\n",
    "admission_df = admission_df[['Admission Year','ICD10 Code','Value']].copy()\n",
    "admission_df.rename(columns={'Value': 'Total Admissions'}, inplace=True)\n",
    "#admission_df = admission_df.loc[admission_df['ICD10 Code'] == 'All codes']\n",
    "admission_df.dropna()\n",
    "admission_df.fillna(0, inplace=True)\n",
    "#admission_df = admission_df.replace('NaN', 0)\n",
    "#admission_df = admission_df.groupby(['Admission Year', 'ICD10 Code'])['Total Admissions'].apply(lambda x : x.astype(int).sum())\n",
    "admission_df"
   ]
  },
  {
   "cell_type": "code",
   "execution_count": null,
   "metadata": {
    "scrolled": false
   },
   "outputs": [],
   "source": [
    "fatalities_file = \"fatalities.csv\"\n",
    "fatalities_df = pd.read_csv(fatalities_file)\n",
    "fatalities_df = fatalities_df[['Year','ICD10 Code','Value']].copy()\n",
    "fatalities_df.rename(columns={'Year': 'Admission Year', 'Value': 'Total Mortalities'}, inplace=True)\n",
    "fatalities_df = fatalities_df.loc[fatalities_df['ICD10 Code'] == 'All codes']\n",
    "fatalities_df.dropna()\n",
    "fatalities_df = fatalities_df.groupby(['Admission Year', 'ICD10 Code'])['Total Mortalities'].apply(lambda x : x.astype(int).sum())\n",
    "fatalities_df"
   ]
  },
  {
   "cell_type": "code",
   "execution_count": null,
   "metadata": {},
   "outputs": [],
   "source": [
    "admission_file = \"admissions.csv\"\n",
    "admission_df = pd.read_csv(admission_file)\n",
    "admission_df = admission_df[['Admission Year','ICD10 Code','Value']].copy()\n",
    "admission_df.rename(columns={'Value': 'Total Admissions'}, inplace=True)\n",
    "admission_df = admission_df.loc[admission_df['ICD10 Code'] == 'All codes']\n",
    "admission_df.dropna()\n",
    "admission_df.fillna(0, inplace=True)\n",
    "#admission_df = admission_df.replace('NaN', 0)\n",
    "admission_df = admission_df.groupby(['Admission Year', 'ICD10 Code'])['Total Admissions'].apply(lambda x : x.astype(int).sum())\n",
    "admission_df"
   ]
  },
  {
   "cell_type": "code",
   "execution_count": null,
   "metadata": {
    "scrolled": true
   },
   "outputs": [],
   "source": [
    "merged_df = pd.merge(admission_df,fatalities_df,on=['Admission Year'])\n",
    "\n",
    "merged_df.to_html('filename.html')"
   ]
  },
  {
   "cell_type": "code",
   "execution_count": null,
   "metadata": {},
   "outputs": [],
   "source": [
    "\n",
    "x_axis = merged_df['Total Admissions']\n",
    "y_axis = merged_df['Total Fatalities']\n",
    "np.corrcoef(x_axis, y_axis)"
   ]
  },
  {
   "cell_type": "code",
   "execution_count": null,
   "metadata": {},
   "outputs": [],
   "source": [
    "fig, ax = plt.subplots()\n",
    "plt.xlabel('Total Annual Admissions')\n",
    "plt.ylabel('Total Fatalities')\n",
    "ax.scatter('Total Admissions','Total Fatalities', data = merged_df )"
   ]
  },
  {
   "cell_type": "code",
   "execution_count": null,
   "metadata": {},
   "outputs": [],
   "source": [
    "year = merged_df[['Year']]\n",
    "data1 = merged_df[['Total Admissions']]\n",
    "data2 = merged_df[['Total Fatalities']]"
   ]
  },
  {
   "cell_type": "code",
   "execution_count": null,
   "metadata": {},
   "outputs": [],
   "source": [
    "# Create Hospital Admissions and Mortalities on one chart\n",
    "\n",
    "\n",
    "fig, ax1 = plt.subplots()\n",
    "\n",
    "color = 'tab:red'\n",
    "ax1.set_xlabel('Year', size=15)\n",
    "ax1.set_ylabel('Admissions', color=color, size=15)\n",
    "ax1.plot(year, data1, color=color)\n",
    "ax1.tick_params(axis='y', labelcolor=color)\n",
    "\n",
    "ax2 = ax1.twinx()  # instantiate a second axes that shares the same x-axis\n",
    "\n",
    "color = 'tab:blue'\n",
    "ax2.set_ylabel('Mortalities', color=color,size=15)  # we already handled the x-label with ax1\n",
    "ax2.plot(t, data2, color=color)\n",
    "ax2.tick_params(axis='y', labelcolor=color)\n",
    "plt.title('Hospital Admissions and Hospital Mortalities over Years', size=20)\n",
    "fig.tight_layout()  # otherwise the right y-label is slightly clipped\n",
    "plt.show()"
   ]
  }
 ],
 "metadata": {
  "kernelspec": {
   "display_name": "Python 3",
   "language": "python",
   "name": "python3"
  },
  "language_info": {
   "codemirror_mode": {
    "name": "ipython",
    "version": 3
   },
   "file_extension": ".py",
   "mimetype": "text/x-python",
   "name": "python",
   "nbconvert_exporter": "python",
   "pygments_lexer": "ipython3",
   "version": "3.6.7"
  }
 },
 "nbformat": 4,
 "nbformat_minor": 2
}
